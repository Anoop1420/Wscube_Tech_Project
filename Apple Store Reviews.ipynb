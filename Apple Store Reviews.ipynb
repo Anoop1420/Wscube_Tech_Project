{
 "cells": [
  {
   "cell_type": "code",
   "execution_count": 3,
   "id": "bd2bab72-f8fb-4ef2-b4bc-82145c72ecc1",
   "metadata": {},
   "outputs": [
    {
     "data": {
      "text/html": [
       "<div>\n",
       "<style scoped>\n",
       "    .dataframe tbody tr th:only-of-type {\n",
       "        vertical-align: middle;\n",
       "    }\n",
       "\n",
       "    .dataframe tbody tr th {\n",
       "        vertical-align: top;\n",
       "    }\n",
       "\n",
       "    .dataframe thead th {\n",
       "        text-align: right;\n",
       "    }\n",
       "</style>\n",
       "<table border=\"1\" class=\"dataframe\">\n",
       "  <thead>\n",
       "    <tr style=\"text-align: right;\">\n",
       "      <th></th>\n",
       "      <th>Review_ID</th>\n",
       "      <th>App_Name</th>\n",
       "      <th>User_Age</th>\n",
       "      <th>Review_Date</th>\n",
       "      <th>Rating</th>\n",
       "      <th>Review_Text</th>\n",
       "      <th>Likes</th>\n",
       "      <th>Device_Type</th>\n",
       "      <th>Version_Used</th>\n",
       "      <th>Country</th>\n",
       "      <th>Purchase_Amount</th>\n",
       "      <th>Category</th>\n",
       "    </tr>\n",
       "  </thead>\n",
       "  <tbody>\n",
       "    <tr>\n",
       "      <th>0</th>\n",
       "      <td>1</td>\n",
       "      <td>Candy Crush Saga</td>\n",
       "      <td>21</td>\n",
       "      <td>2023-01-16</td>\n",
       "      <td>4</td>\n",
       "      <td>Great game, but too many in-game purchases.</td>\n",
       "      <td>70</td>\n",
       "      <td>iPhone 12</td>\n",
       "      <td>3.231.19</td>\n",
       "      <td>Australia</td>\n",
       "      <td>0.00</td>\n",
       "      <td>Games</td>\n",
       "    </tr>\n",
       "    <tr>\n",
       "      <th>1</th>\n",
       "      <td>2</td>\n",
       "      <td>Spotify</td>\n",
       "      <td>57</td>\n",
       "      <td>2024-02-01</td>\n",
       "      <td>1</td>\n",
       "      <td>Good, but has connection issues sometimes.</td>\n",
       "      <td>49</td>\n",
       "      <td>iPhone SE</td>\n",
       "      <td>4.102.9</td>\n",
       "      <td>Germany</td>\n",
       "      <td>7.15</td>\n",
       "      <td>Music</td>\n",
       "    </tr>\n",
       "    <tr>\n",
       "      <th>2</th>\n",
       "      <td>3</td>\n",
       "      <td>TikTok</td>\n",
       "      <td>33</td>\n",
       "      <td>2023-11-30</td>\n",
       "      <td>5</td>\n",
       "      <td>Awesome app! Best entertainment content.</td>\n",
       "      <td>98</td>\n",
       "      <td>iPhone 12</td>\n",
       "      <td>7.52.0</td>\n",
       "      <td>Germany</td>\n",
       "      <td>4.98</td>\n",
       "      <td>Entertainment</td>\n",
       "    </tr>\n",
       "    <tr>\n",
       "      <th>3</th>\n",
       "      <td>4</td>\n",
       "      <td>Audible</td>\n",
       "      <td>40</td>\n",
       "      <td>2023-04-03</td>\n",
       "      <td>5</td>\n",
       "      <td>Great app, but it's a bit pricey.</td>\n",
       "      <td>74</td>\n",
       "      <td>iPhone 13</td>\n",
       "      <td>5.260.15</td>\n",
       "      <td>Australia</td>\n",
       "      <td>0.00</td>\n",
       "      <td>Books</td>\n",
       "    </tr>\n",
       "    <tr>\n",
       "      <th>4</th>\n",
       "      <td>5</td>\n",
       "      <td>Spotify</td>\n",
       "      <td>44</td>\n",
       "      <td>2023-05-01</td>\n",
       "      <td>1</td>\n",
       "      <td>Good, but has connection issues sometimes.</td>\n",
       "      <td>47</td>\n",
       "      <td>iPhone SE</td>\n",
       "      <td>4.50.18</td>\n",
       "      <td>Australia</td>\n",
       "      <td>14.31</td>\n",
       "      <td>Music</td>\n",
       "    </tr>\n",
       "    <tr>\n",
       "      <th>...</th>\n",
       "      <td>...</td>\n",
       "      <td>...</td>\n",
       "      <td>...</td>\n",
       "      <td>...</td>\n",
       "      <td>...</td>\n",
       "      <td>...</td>\n",
       "      <td>...</td>\n",
       "      <td>...</td>\n",
       "      <td>...</td>\n",
       "      <td>...</td>\n",
       "      <td>...</td>\n",
       "      <td>...</td>\n",
       "    </tr>\n",
       "    <tr>\n",
       "      <th>995</th>\n",
       "      <td>996</td>\n",
       "      <td>Headspace</td>\n",
       "      <td>30</td>\n",
       "      <td>2023-11-15</td>\n",
       "      <td>3</td>\n",
       "      <td>Good, but the premium content is expensive.</td>\n",
       "      <td>65</td>\n",
       "      <td>iPhone SE</td>\n",
       "      <td>6.284.11</td>\n",
       "      <td>US</td>\n",
       "      <td>0.00</td>\n",
       "      <td>Health</td>\n",
       "    </tr>\n",
       "    <tr>\n",
       "      <th>996</th>\n",
       "      <td>997</td>\n",
       "      <td>Duolingo</td>\n",
       "      <td>19</td>\n",
       "      <td>2024-09-27</td>\n",
       "      <td>1</td>\n",
       "      <td>Disappointing. Hard to follow and buggy.</td>\n",
       "      <td>4</td>\n",
       "      <td>iPhone SE</td>\n",
       "      <td>6.293.8</td>\n",
       "      <td>Canada</td>\n",
       "      <td>7.25</td>\n",
       "      <td>Education</td>\n",
       "    </tr>\n",
       "    <tr>\n",
       "      <th>997</th>\n",
       "      <td>998</td>\n",
       "      <td>Duolingo</td>\n",
       "      <td>38</td>\n",
       "      <td>2023-06-07</td>\n",
       "      <td>5</td>\n",
       "      <td>Excellent for learning new skills!</td>\n",
       "      <td>85</td>\n",
       "      <td>iPhone 11</td>\n",
       "      <td>10.277.15</td>\n",
       "      <td>Mexico</td>\n",
       "      <td>13.33</td>\n",
       "      <td>Education</td>\n",
       "    </tr>\n",
       "    <tr>\n",
       "      <th>998</th>\n",
       "      <td>999</td>\n",
       "      <td>Instagram</td>\n",
       "      <td>52</td>\n",
       "      <td>2024-03-04</td>\n",
       "      <td>4</td>\n",
       "      <td>Great app, but sometimes it lags.</td>\n",
       "      <td>55</td>\n",
       "      <td>iPhone 13</td>\n",
       "      <td>3.52.20</td>\n",
       "      <td>US</td>\n",
       "      <td>6.37</td>\n",
       "      <td>Social</td>\n",
       "    </tr>\n",
       "    <tr>\n",
       "      <th>999</th>\n",
       "      <td>1000</td>\n",
       "      <td>Audible</td>\n",
       "      <td>25</td>\n",
       "      <td>2024-02-20</td>\n",
       "      <td>2</td>\n",
       "      <td>Terrible. Very limited selection of books.</td>\n",
       "      <td>7</td>\n",
       "      <td>iPhone 13</td>\n",
       "      <td>9.150.8</td>\n",
       "      <td>India</td>\n",
       "      <td>8.32</td>\n",
       "      <td>Books</td>\n",
       "    </tr>\n",
       "  </tbody>\n",
       "</table>\n",
       "<p>1000 rows × 12 columns</p>\n",
       "</div>"
      ],
      "text/plain": [
       "     Review_ID          App_Name  User_Age Review_Date  Rating  \\\n",
       "0            1  Candy Crush Saga        21  2023-01-16       4   \n",
       "1            2           Spotify        57  2024-02-01       1   \n",
       "2            3            TikTok        33  2023-11-30       5   \n",
       "3            4           Audible        40  2023-04-03       5   \n",
       "4            5           Spotify        44  2023-05-01       1   \n",
       "..         ...               ...       ...         ...     ...   \n",
       "995        996         Headspace        30  2023-11-15       3   \n",
       "996        997          Duolingo        19  2024-09-27       1   \n",
       "997        998          Duolingo        38  2023-06-07       5   \n",
       "998        999         Instagram        52  2024-03-04       4   \n",
       "999       1000           Audible        25  2024-02-20       2   \n",
       "\n",
       "                                     Review_Text  Likes Device_Type  \\\n",
       "0    Great game, but too many in-game purchases.     70   iPhone 12   \n",
       "1     Good, but has connection issues sometimes.     49   iPhone SE   \n",
       "2       Awesome app! Best entertainment content.     98   iPhone 12   \n",
       "3              Great app, but it's a bit pricey.     74   iPhone 13   \n",
       "4     Good, but has connection issues sometimes.     47   iPhone SE   \n",
       "..                                           ...    ...         ...   \n",
       "995  Good, but the premium content is expensive.     65   iPhone SE   \n",
       "996     Disappointing. Hard to follow and buggy.      4   iPhone SE   \n",
       "997           Excellent for learning new skills!     85   iPhone 11   \n",
       "998            Great app, but sometimes it lags.     55   iPhone 13   \n",
       "999   Terrible. Very limited selection of books.      7   iPhone 13   \n",
       "\n",
       "    Version_Used    Country  Purchase_Amount       Category  \n",
       "0       3.231.19  Australia             0.00          Games  \n",
       "1        4.102.9    Germany             7.15          Music  \n",
       "2         7.52.0    Germany             4.98  Entertainment  \n",
       "3       5.260.15  Australia             0.00          Books  \n",
       "4        4.50.18  Australia            14.31          Music  \n",
       "..           ...        ...              ...            ...  \n",
       "995     6.284.11         US             0.00         Health  \n",
       "996      6.293.8     Canada             7.25      Education  \n",
       "997    10.277.15     Mexico            13.33      Education  \n",
       "998      3.52.20         US             6.37         Social  \n",
       "999      9.150.8      India             8.32          Books  \n",
       "\n",
       "[1000 rows x 12 columns]"
      ]
     },
     "execution_count": 3,
     "metadata": {},
     "output_type": "execute_result"
    }
   ],
   "source": [
    "import pandas as pd\n",
    "\n",
    "# Load the dataset\n",
    "df = pd.read_csv(\"C:\\\\Users\\\\anoop\\\\Downloads\\\\Apple_Store_Reviews (1).csv\")\n",
    "df"
   ]
  },
  {
   "cell_type": "code",
   "execution_count": 7,
   "id": "9ce64a36-ea54-4d3f-a38c-0331f3874f83",
   "metadata": {},
   "outputs": [
    {
     "data": {
      "text/plain": [
       "<bound method NDFrame.head of      Review_ID          App_Name  User_Age Review_Date  Rating  \\\n",
       "0            1  Candy Crush Saga        21  2023-01-16       4   \n",
       "1            2           Spotify        57  2024-02-01       1   \n",
       "2            3            TikTok        33  2023-11-30       5   \n",
       "3            4           Audible        40  2023-04-03       5   \n",
       "4            5           Spotify        44  2023-05-01       1   \n",
       "..         ...               ...       ...         ...     ...   \n",
       "995        996         Headspace        30  2023-11-15       3   \n",
       "996        997          Duolingo        19  2024-09-27       1   \n",
       "997        998          Duolingo        38  2023-06-07       5   \n",
       "998        999         Instagram        52  2024-03-04       4   \n",
       "999       1000           Audible        25  2024-02-20       2   \n",
       "\n",
       "                                     Review_Text  Likes Device_Type  \\\n",
       "0    Great game, but too many in-game purchases.     70   iPhone 12   \n",
       "1     Good, but has connection issues sometimes.     49   iPhone SE   \n",
       "2       Awesome app! Best entertainment content.     98   iPhone 12   \n",
       "3              Great app, but it's a bit pricey.     74   iPhone 13   \n",
       "4     Good, but has connection issues sometimes.     47   iPhone SE   \n",
       "..                                           ...    ...         ...   \n",
       "995  Good, but the premium content is expensive.     65   iPhone SE   \n",
       "996     Disappointing. Hard to follow and buggy.      4   iPhone SE   \n",
       "997           Excellent for learning new skills!     85   iPhone 11   \n",
       "998            Great app, but sometimes it lags.     55   iPhone 13   \n",
       "999   Terrible. Very limited selection of books.      7   iPhone 13   \n",
       "\n",
       "    Version_Used    Country  Purchase_Amount       Category  \n",
       "0       3.231.19  Australia             0.00          Games  \n",
       "1        4.102.9    Germany             7.15          Music  \n",
       "2         7.52.0    Germany             4.98  Entertainment  \n",
       "3       5.260.15  Australia             0.00          Books  \n",
       "4        4.50.18  Australia            14.31          Music  \n",
       "..           ...        ...              ...            ...  \n",
       "995     6.284.11         US             0.00         Health  \n",
       "996      6.293.8     Canada             7.25      Education  \n",
       "997    10.277.15     Mexico            13.33      Education  \n",
       "998      3.52.20         US             6.37         Social  \n",
       "999      9.150.8      India             8.32          Books  \n",
       "\n",
       "[1000 rows x 12 columns]>"
      ]
     },
     "execution_count": 7,
     "metadata": {},
     "output_type": "execute_result"
    }
   ],
   "source": [
    "df.head"
   ]
  },
  {
   "cell_type": "code",
   "execution_count": 9,
   "id": "c35d7d5e-7059-486c-90a7-1f51d726be57",
   "metadata": {},
   "outputs": [],
   "source": [
    "#Calculate Mean, Median, and Mode of App Ratings:"
   ]
  },
  {
   "cell_type": "code",
   "execution_count": 11,
   "id": "934178b7-c257-4482-9bdb-7f8c5ee3c852",
   "metadata": {},
   "outputs": [
    {
     "name": "stdout",
     "output_type": "stream",
     "text": [
      "Mean Rating: 2.869\n",
      "Median Rating: 3.0\n",
      "Mode Rating: 1\n"
     ]
    }
   ],
   "source": [
    "mean_rating = df['Rating'].mean()\n",
    "median_rating = df['Rating'].median()\n",
    "mode_rating = df['Rating'].mode()[0]\n",
    "\n",
    "print(f\"Mean Rating: {mean_rating}\")\n",
    "print(f\"Median Rating: {median_rating}\")\n",
    "print(f\"Mode Rating: {mode_rating}\")\n"
   ]
  },
  {
   "cell_type": "code",
   "execution_count": 13,
   "id": "3e19b88f-17dd-433f-9c1f-553da9c8ad39",
   "metadata": {},
   "outputs": [],
   "source": [
    "#Find Range and Interquartile Range (IQR) of Purchase Amount:"
   ]
  },
  {
   "cell_type": "code",
   "execution_count": 15,
   "id": "4e1604d2-d9f9-4612-a84f-49dc8852cc76",
   "metadata": {},
   "outputs": [
    {
     "name": "stdout",
     "output_type": "stream",
     "text": [
      "Range of Purchase Amount: 19.97\n",
      "Interquartile Range (IQR) of Purchase Amount: 10.192499999999999\n"
     ]
    }
   ],
   "source": [
    "range_purchase = df['Purchase_Amount'].max() - df['Purchase_Amount'].min()\n",
    "Q1 = df['Purchase_Amount'].quantile(0.25)\n",
    "Q3 = df['Purchase_Amount'].quantile(0.75)\n",
    "IQR = Q3 - Q1\n",
    "\n",
    "print(f\"Range of Purchase Amount: {range_purchase}\")\n",
    "print(f\"Interquartile Range (IQR) of Purchase Amount: {IQR}\")\n"
   ]
  },
  {
   "cell_type": "code",
   "execution_count": 17,
   "id": "e07db5f4-1674-4929-9d3c-e4adeaf05891",
   "metadata": {},
   "outputs": [],
   "source": [
    "#Calculate Variance and Standard Deviation for Number of Likes:"
   ]
  },
  {
   "cell_type": "code",
   "execution_count": 19,
   "id": "c15b5b63-379b-4852-9597-0aa93b55a7a6",
   "metadata": {},
   "outputs": [
    {
     "name": "stdout",
     "output_type": "stream",
     "text": [
      "Variance of Likes: 822.8546786786786\n",
      "Standard Deviation of Likes: 28.685443672334557\n"
     ]
    }
   ],
   "source": [
    "variance_likes = df['Likes'].var()\n",
    "std_dev_likes = df['Likes'].std()\n",
    "\n",
    "print(f\"Variance of Likes: {variance_likes}\")\n",
    "print(f\"Standard Deviation of Likes: {std_dev_likes}\")\n"
   ]
  },
  {
   "cell_type": "code",
   "execution_count": 21,
   "id": "335424b8-c240-455c-bfaf-dd06c23bf9a0",
   "metadata": {},
   "outputs": [],
   "source": [
    "# Determine Correlation Between Likes and Rating:\n",
    "\n"
   ]
  },
  {
   "cell_type": "code",
   "execution_count": 23,
   "id": "1c89e8cb-9f41-4b51-a961-31de683c2cbd",
   "metadata": {},
   "outputs": [
    {
     "name": "stdout",
     "output_type": "stream",
     "text": [
      "Correlation between Likes and Rating: 0.8425414470584177\n"
     ]
    }
   ],
   "source": [
    "correlation = df['Likes'].corr(df['Rating'])\n",
    "print(f\"Correlation between Likes and Rating: {correlation}\")\n"
   ]
  },
  {
   "cell_type": "code",
   "execution_count": 25,
   "id": "98e1b3d2-97b0-4ca7-8034-22507c33d550",
   "metadata": {},
   "outputs": [],
   "source": [
    "# Plot Distribution of App Ratings:"
   ]
  },
  {
   "cell_type": "code",
   "execution_count": 27,
   "id": "d1a4da33-5ffd-4f43-b043-2a6dc1b5c56a",
   "metadata": {},
   "outputs": [
    {
     "data": {
      "image/png": "[encoded data removed]",
      "text/plain": [
       "<Figure size 1000x600 with 1 Axes>"
      ]
     },
     "metadata": {},
     "output_type": "display_data"
    }
   ],
   "source": [
    "import matplotlib.pyplot as plt\n",
    "import seaborn as sns\n",
    "\n",
    "plt.figure(figsize=(10, 6))\n",
    "sns.histplot(df['Rating'], bins=20, kde=True)\n",
    "plt.title('Distribution of App Ratings')\n",
    "plt.xlabel('Rating')\n",
    "plt.ylabel('Frequency')\n",
    "plt.show()\n"
   ]
  },
  {
   "cell_type": "code",
   "execution_count": 29,
   "id": "9044d389-9d51-4ab7-a582-56ea850376f7",
   "metadata": {},
   "outputs": [],
   "source": [
    "# Hypothesis Test: Average Rating of Instagram vs. WhatsApp:"
   ]
  },
  {
   "cell_type": "code",
   "execution_count": 33,
   "id": "d86159ab-b1c0-49ca-8d16-ece8be048de9",
   "metadata": {},
   "outputs": [
    {
     "name": "stdout",
     "output_type": "stream",
     "text": [
      "Index(['Review_ID', 'App_Name', 'User_Age', 'Review_Date', 'Rating',\n",
      "       'Review_Text', 'Likes', 'Device_Type', 'Version_Used', 'Country',\n",
      "       'Purchase_Amount', 'Category'],\n",
      "      dtype='object')\n"
     ]
    }
   ],
   "source": [
    "print(df.columns)\n"
   ]
  },
  {
   "cell_type": "code",
   "execution_count": 35,
   "id": "a2150426-e447-4d28-8c52-0a0e0941e0a9",
   "metadata": {},
   "outputs": [
    {
     "name": "stdout",
     "output_type": "stream",
     "text": [
      "T-statistic: -0.7968909457614618\n",
      "P-value: 0.4263936403323453\n"
     ]
    }
   ],
   "source": [
    "from scipy.stats import ttest_ind\n",
    "\n",
    "instagram_ratings = df[df['App_Name'] == 'Instagram']['Rating']\n",
    "whatsapp_ratings = df[df['App_Name'] == 'WhatsApp']['Rating']\n",
    "\n",
    "t_stat, p_value = ttest_ind(instagram_ratings, whatsapp_ratings, equal_var=False)\n",
    "\n",
    "print(f\"T-statistic: {t_stat}\")\n",
    "print(f\"P-value: {p_value}\")\n"
   ]
  },
  {
   "cell_type": "code",
   "execution_count": 37,
   "id": "32a7b6ab-bb3e-4878-85d2-162833165c9d",
   "metadata": {},
   "outputs": [],
   "source": [
    "# Sampling Distribution and Central Limit Theorem:\n",
    "\n"
   ]
  },
  {
   "cell_type": "code",
   "execution_count": 39,
   "id": "75982533-2c2e-46d8-9078-659c8f1362bc",
   "metadata": {},
   "outputs": [
    {
     "data": {
      "image/png": "[encoded data removed]",
      "text/plain": [
       "<Figure size 1000x600 with 1 Axes>"
      ]
     },
     "metadata": {},
     "output_type": "display_data"
    }
   ],
   "source": [
    "import numpy as np\n",
    "\n",
    "sample_means = []\n",
    "sample_size = 30\n",
    "num_samples = 1000\n",
    "\n",
    "for _ in range(num_samples):\n",
    "    sample = np.random.choice(df['Rating'], size=sample_size, replace=True)\n",
    "    sample_means.append(np.mean(sample))\n",
    "\n",
    "plt.figure(figsize=(10, 6))\n",
    "sns.histplot(sample_means, bins=30, kde=True)\n",
    "plt.title('Sampling Distribution of the Mean Ratings')\n",
    "plt.xlabel('Sample Mean Rating')\n",
    "plt.ylabel('Frequency')\n",
    "plt.show()\n"
   ]
  },
  {
   "cell_type": "code",
   "execution_count": null,
   "id": "8e9f645d-dd1c-4ecc-98fb-116c1033a781",
   "metadata": {},
   "outputs": [],
   "source": []
  }
 ],
 "metadata": {
  "kernelspec": {
   "display_name": "Python 3 (ipykernel)",
   "language": "python",
   "name": "python3"
  },
  "language_info": {
   "codemirror_mode": {
    "name": "ipython",
    "version": 3
   },
   "file_extension": ".py",
   "mimetype": "text/x-python",
   "name": "python",
   "nbconvert_exporter": "python",
   "pygments_lexer": "ipython3",
   "version": "3.12.4"
  }
 },
 "nbformat": 4,
 "nbformat_minor": 5
}
