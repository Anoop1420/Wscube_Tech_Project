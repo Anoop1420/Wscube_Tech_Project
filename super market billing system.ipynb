{
 "cells": [
  {
   "cell_type": "code",
   "execution_count": null,
   "id": "f62c77c8-9cd0-47da-bf85-14619284c635",
   "metadata": {},
   "outputs": [],
   "source": [
    "#super market billing system\n",
    "\n",
    "while True:\n",
    "    amount = 0\n",
    "    name = input(\"enter name\")\n",
    "    \n",
    "    while True:\n",
    "        print('enter the price and quantity')\n",
    "        price = float(input(\"enter price\"))\n",
    "        quantity = float(input('enter quantity'))\n",
    "        amount += price * quantity\n",
    "        repeat = input(\"do you want do add more items?\")\n",
    "        if repeat == \"no\":\n",
    "            break\n",
    "    \n",
    "    print (\"-\"*40)\n",
    "    print(\"customer's Name\", name)\n",
    "    print(\"Total Amount\", amount)\n",
    "    print(\"-\"*40)\n",
    "\n",
    "    n_person = input(\"is there another person is queue?\")\n",
    "    if n_person == \"no\":\n",
    "        break\n",
    "\n",
    "print(\"Thank You !\")"
   ]
  },
  {
   "cell_type": "code",
   "execution_count": 17,
   "id": "882ad9ed-a181-4dcb-918d-1e9049aa22a4",
   "metadata": {},
   "outputs": [],
   "source": [
    "Products = {\"Apples\":40, \"Chips\":20, \"Avacado\":105, \"Cola\":40}"
   ]
  },
  {
   "cell_type": "code",
   "execution_count": 70,
   "id": "9a3efc2d-1f34-4f9b-9691-3f43345d51a6",
   "metadata": {},
   "outputs": [
    {
     "name": "stdout",
     "output_type": "stream",
     "text": [
      "--------------- Welcome To Wscubemart ---------------\n"
     ]
    },
    {
     "name": "stdin",
     "output_type": "stream",
     "text": [
      "enter your name: Anoop\n",
      "enter phone number: 1233\n"
     ]
    },
    {
     "name": "stdout",
     "output_type": "stream",
     "text": [
      "------- Products List -------\n",
      "        Apples : 40\n",
      "        chips : 20\n",
      "        Avacado : 105\n",
      "        Cola : 40\n"
     ]
    },
    {
     "name": "stdin",
     "output_type": "stream",
     "text": [
      "enter product name you wish to buy: avacado\n",
      "enter quantity you wish to buy: 6\n",
      "do you wanna more items?(yes/no) yes\n",
      "enter product name you wish to buy: cola\n",
      "enter quantity you wish to buy: 3\n",
      "do you wanna more items?(yes/no) no\n"
     ]
    },
    {
     "name": "stdout",
     "output_type": "stream",
     "text": [
      "----------------------------------------\n",
      "Name: Anoop\n",
      "Phone: 1233\n",
      "Avacado price:  105 X 6.0 =  630.0\n",
      "Cola price:  40 X 3.0 =  120.0\n",
      "Total Amount: 750.0\n",
      "Discount Applied: 5.0 %\n",
      "----------------------------------------\n",
      "Payable Amount: 712.5\n",
      "----------------------------------------\n"
     ]
    }
   ],
   "source": [
    "print (\"-\"*15, \"Welcome To Wscubemart\", \"-\"*15)\n",
    "\n",
    "while True:\n",
    "    cart = {}\n",
    "    amount = 0\n",
    "    name = input('enter your name:')\n",
    "    ph_no = input('enter phone number:')\n",
    "    discount = 0\n",
    "    \n",
    "    print(\"-\"*7, \"Products List\", \"-\"*7)\n",
    "    for  i,j in Products.items():\n",
    "        print(\" \"*7, i, \":\", j)\n",
    "    \n",
    "    while True:\n",
    "        p_name = input(\"enter product name you wish to buy:\").capitalize()\n",
    "        quantity = float(input(\"enter quantity you wish to buy:\"))\n",
    "        val = []\n",
    "        val.append(Products[p_name])\n",
    "        val.append(quantity)\n",
    "        val.append(quantity * Products[p_name])\n",
    "        cart[p_name] = val\n",
    "        \n",
    "        amount += Products[p_name] * quantity\n",
    "        repeat = input(\"do you wanna more items?(yes/no)\")\n",
    "        if repeat == \"no\":\n",
    "            break\n",
    "    \n",
    "    if amount <=500:\n",
    "        discount = 0\n",
    "    \n",
    "    elif amount <= 1000:\n",
    "        discount = 0.05\n",
    "    \n",
    "    elif amount <= 3000:\n",
    "        discount = 0.10\n",
    "    \n",
    "    else:\n",
    "        discount = 0.15\n",
    "    \n",
    "    act_amount = amount - (amount*discount)\n",
    "    print(\"-\"*40)\n",
    "    print(\"Name:\", name)\n",
    "    print(\"Phone:\", ph_no)\n",
    "    for i, j in cart.items():\n",
    "        print(i, \"price: \" , j[0] , \"X\" , j[1] , \"= \" , j[2])\n",
    "    print(\"Total Amount:\", amount)\n",
    "    print(\"Discount Applied:\", discount*100, \"%\")\n",
    "    print(\"-\"*40)\n",
    "    print(\"Payable Amount:\", act_amount)\n",
    "    print(\"-\"*40)\n",
    "    n_person = input(\"next person?\").capitalize()\n",
    "    if n_person == \"No\":\n",
    "        break\n",
    "    "
   ]
  },
  {
   "cell_type": "code",
   "execution_count": null,
   "id": "554fc08b-c334-4f0c-a2d7-10de68808f55",
   "metadata": {},
   "outputs": [],
   "source": []
  },
  {
   "cell_type": "code",
   "execution_count": null,
   "id": "df799b00-9c63-4b6e-bb59-5250b65cce76",
   "metadata": {},
   "outputs": [],
   "source": []
  }
 ],
 "metadata": {
  "kernelspec": {
   "display_name": "Python 3 (ipykernel)",
   "language": "python",
   "name": "python3"
  },
  "language_info": {
   "codemirror_mode": {
    "name": "ipython",
    "version": 3
   },
   "file_extension": ".py",
   "mimetype": "text/x-python",
   "name": "python",
   "nbconvert_exporter": "python",
   "pygments_lexer": "ipython3",
   "version": "3.12.4"
  }
 },
 "nbformat": 4,
 "nbformat_minor": 5
}
