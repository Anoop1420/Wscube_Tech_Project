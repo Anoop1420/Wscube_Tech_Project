{
 "cells": [
  {
   "cell_type": "code",
   "execution_count": 2,
   "id": "906bc2a1-80e5-4ca8-9507-e68d07fbf7fd",
   "metadata": {},
   "outputs": [],
   "source": [
    "import pickle"
   ]
  },
  {
   "cell_type": "code",
   "execution_count": 4,
   "id": "43067191-5537-4b9e-b93f-884e0f3d3c86",
   "metadata": {},
   "outputs": [],
   "source": [
    "import os"
   ]
  },
  {
   "cell_type": "code",
   "execution_count": 6,
   "id": "2843a53d-2df1-44d3-b057-1928304895b0",
   "metadata": {},
   "outputs": [],
   "source": [
    "import random"
   ]
  },
  {
   "cell_type": "code",
   "execution_count": 8,
   "id": "17e4f3d1-973d-4796-9dca-e832cbebc1ba",
   "metadata": {},
   "outputs": [],
   "source": [
    "import numpy as np"
   ]
  },
  {
   "cell_type": "code",
   "execution_count": 10,
   "id": "78c3e80b-1ff1-43da-9902-a50365daf73a",
   "metadata": {},
   "outputs": [],
   "source": [
    "from datetime import datetime"
   ]
  },
  {
   "cell_type": "code",
   "execution_count": 16,
   "id": "7c8a05dc-d70b-480f-8990-8e31941c74ee",
   "metadata": {},
   "outputs": [],
   "source": [
    "from datetime import datetime"
   ]
  },
  {
   "cell_type": "code",
   "execution_count": 18,
   "id": "64aad2a5-6b4b-4550-a599-7f97cfe72727",
   "metadata": {},
   "outputs": [
    {
     "data": {
      "application/javascript": [
       "\n",
       "        if (window._pyforest_update_imports_cell) { window._pyforest_update_imports_cell('import os\\nimport pickle\\nimport random'); }\n",
       "    "
      ],
      "text/plain": [
       "<IPython.core.display.Javascript object>"
      ]
     },
     "metadata": {},
     "output_type": "display_data"
    },
    {
     "data": {
      "application/javascript": [
       "\n",
       "        if (window._pyforest_update_imports_cell) { window._pyforest_update_imports_cell('import os\\nimport pickle\\nimport random'); }\n",
       "    "
      ],
      "text/plain": [
       "<IPython.core.display.Javascript object>"
      ]
     },
     "metadata": {},
     "output_type": "display_data"
    },
    {
     "data": {
      "application/javascript": [
       "\n",
       "        if (window._pyforest_update_imports_cell) { window._pyforest_update_imports_cell('import os\\nimport pickle\\nimport random'); }\n",
       "    "
      ],
      "text/plain": [
       "<IPython.core.display.Javascript object>"
      ]
     },
     "metadata": {},
     "output_type": "display_data"
    },
    {
     "data": {
      "application/javascript": [
       "\n",
       "        if (window._pyforest_update_imports_cell) { window._pyforest_update_imports_cell('import os\\nimport pickle\\nimport random'); }\n",
       "    "
      ],
      "text/plain": [
       "<IPython.core.display.Javascript object>"
      ]
     },
     "metadata": {},
     "output_type": "display_data"
    },
    {
     "name": "stdout",
     "output_type": "stream",
     "text": [
      "\n",
      "Bank Account Management System\n",
      "1. Open a New Account\n",
      "2. View Account Details\n",
      "3. Deposit Money\n",
      "4. Withdraw Money\n",
      "5. Transfer Money\n",
      "6. View Transaction History\n",
      "7. View Summary Statistics\n",
      "8. Exit\n"
     ]
    },
    {
     "name": "stdin",
     "output_type": "stream",
     "text": [
      "Enter your choice:  1\n",
      "Enter account holder's name:  Anoop\n",
      "Enter account type (Savings/Current):  savings\n",
      "Enter initial balance:  20000\n"
     ]
    },
    {
     "data": {
      "application/javascript": [
       "\n",
       "        if (window._pyforest_update_imports_cell) { window._pyforest_update_imports_cell('import os\\nimport pickle\\nimport random'); }\n",
       "    "
      ],
      "text/plain": [
       "<IPython.core.display.Javascript object>"
      ]
     },
     "metadata": {},
     "output_type": "display_data"
    },
    {
     "data": {
      "application/javascript": [
       "\n",
       "        if (window._pyforest_update_imports_cell) { window._pyforest_update_imports_cell('import os\\nimport pickle\\nimport random'); }\n",
       "    "
      ],
      "text/plain": [
       "<IPython.core.display.Javascript object>"
      ]
     },
     "metadata": {},
     "output_type": "display_data"
    },
    {
     "data": {
      "application/javascript": [
       "\n",
       "        if (window._pyforest_update_imports_cell) { window._pyforest_update_imports_cell('import os\\nimport pickle\\nimport random'); }\n",
       "    "
      ],
      "text/plain": [
       "<IPython.core.display.Javascript object>"
      ]
     },
     "metadata": {},
     "output_type": "display_data"
    },
    {
     "data": {
      "application/javascript": [
       "\n",
       "        if (window._pyforest_update_imports_cell) { window._pyforest_update_imports_cell('import os\\nimport pickle\\nimport random'); }\n",
       "    "
      ],
      "text/plain": [
       "<IPython.core.display.Javascript object>"
      ]
     },
     "metadata": {},
     "output_type": "display_data"
    },
    {
     "name": "stdout",
     "output_type": "stream",
     "text": [
      "Account created successfully! Account No: 32274011407, User ID: anoop1407, Password: 277893\n",
      "\n",
      "Bank Account Management System\n",
      "1. Open a New Account\n",
      "2. View Account Details\n",
      "3. Deposit Money\n",
      "4. Withdraw Money\n",
      "5. Transfer Money\n",
      "6. View Transaction History\n",
      "7. View Summary Statistics\n",
      "8. Exit\n"
     ]
    },
    {
     "name": "stdin",
     "output_type": "stream",
     "text": [
      "Enter your choice:  1\n",
      "Enter account holder's name:  om\n",
      "Enter account type (Savings/Current):  savings\n",
      "Enter initial balance:  30000\n"
     ]
    },
    {
     "data": {
      "application/javascript": [
       "\n",
       "        if (window._pyforest_update_imports_cell) { window._pyforest_update_imports_cell('import os\\nimport pickle\\nimport random'); }\n",
       "    "
      ],
      "text/plain": [
       "<IPython.core.display.Javascript object>"
      ]
     },
     "metadata": {},
     "output_type": "display_data"
    },
    {
     "data": {
      "application/javascript": [
       "\n",
       "        if (window._pyforest_update_imports_cell) { window._pyforest_update_imports_cell('import os\\nimport pickle\\nimport random'); }\n",
       "    "
      ],
      "text/plain": [
       "<IPython.core.display.Javascript object>"
      ]
     },
     "metadata": {},
     "output_type": "display_data"
    },
    {
     "data": {
      "application/javascript": [
       "\n",
       "        if (window._pyforest_update_imports_cell) { window._pyforest_update_imports_cell('import os\\nimport pickle\\nimport random'); }\n",
       "    "
      ],
      "text/plain": [
       "<IPython.core.display.Javascript object>"
      ]
     },
     "metadata": {},
     "output_type": "display_data"
    },
    {
     "data": {
      "application/javascript": [
       "\n",
       "        if (window._pyforest_update_imports_cell) { window._pyforest_update_imports_cell('import os\\nimport pickle\\nimport random'); }\n",
       "    "
      ],
      "text/plain": [
       "<IPython.core.display.Javascript object>"
      ]
     },
     "metadata": {},
     "output_type": "display_data"
    },
    {
     "name": "stdout",
     "output_type": "stream",
     "text": [
      "Account created successfully! Account No: 38298356202, User ID: om6202, Password: 655251\n",
      "\n",
      "Bank Account Management System\n",
      "1. Open a New Account\n",
      "2. View Account Details\n",
      "3. Deposit Money\n",
      "4. Withdraw Money\n",
      "5. Transfer Money\n",
      "6. View Transaction History\n",
      "7. View Summary Statistics\n",
      "8. Exit\n"
     ]
    },
    {
     "name": "stdin",
     "output_type": "stream",
     "text": [
      "Enter your choice:  3\n",
      "Enter account number:  38298356202\n",
      "Enter amount to deposit:  1000\n"
     ]
    },
    {
     "data": {
      "application/javascript": [
       "\n",
       "        if (window._pyforest_update_imports_cell) { window._pyforest_update_imports_cell('import os\\nimport pickle\\nimport random'); }\n",
       "    "
      ],
      "text/plain": [
       "<IPython.core.display.Javascript object>"
      ]
     },
     "metadata": {},
     "output_type": "display_data"
    },
    {
     "data": {
      "application/javascript": [
       "\n",
       "        if (window._pyforest_update_imports_cell) { window._pyforest_update_imports_cell('import os\\nimport pickle\\nimport random'); }\n",
       "    "
      ],
      "text/plain": [
       "<IPython.core.display.Javascript object>"
      ]
     },
     "metadata": {},
     "output_type": "display_data"
    },
    {
     "name": "stdout",
     "output_type": "stream",
     "text": [
      "Deposited 1000.0 successfully! New Balance: 31000.0\n",
      "\n",
      "Bank Account Management System\n",
      "1. Open a New Account\n",
      "2. View Account Details\n",
      "3. Deposit Money\n",
      "4. Withdraw Money\n",
      "5. Transfer Money\n",
      "6. View Transaction History\n",
      "7. View Summary Statistics\n",
      "8. Exit\n"
     ]
    },
    {
     "name": "stdin",
     "output_type": "stream",
     "text": [
      "Enter your choice:  4\n",
      "Enter account number:  38298356202\n",
      "Enter amount to withdraw:  1000\n"
     ]
    },
    {
     "data": {
      "application/javascript": [
       "\n",
       "        if (window._pyforest_update_imports_cell) { window._pyforest_update_imports_cell('import os\\nimport pickle\\nimport random'); }\n",
       "    "
      ],
      "text/plain": [
       "<IPython.core.display.Javascript object>"
      ]
     },
     "metadata": {},
     "output_type": "display_data"
    },
    {
     "data": {
      "application/javascript": [
       "\n",
       "        if (window._pyforest_update_imports_cell) { window._pyforest_update_imports_cell('import os\\nimport pickle\\nimport random'); }\n",
       "    "
      ],
      "text/plain": [
       "<IPython.core.display.Javascript object>"
      ]
     },
     "metadata": {},
     "output_type": "display_data"
    },
    {
     "name": "stdout",
     "output_type": "stream",
     "text": [
      "Withdrew 1000.0 successfully! New Balance: 30000.0\n",
      "\n",
      "Bank Account Management System\n",
      "1. Open a New Account\n",
      "2. View Account Details\n",
      "3. Deposit Money\n",
      "4. Withdraw Money\n",
      "5. Transfer Money\n",
      "6. View Transaction History\n",
      "7. View Summary Statistics\n",
      "8. Exit\n"
     ]
    },
    {
     "name": "stdin",
     "output_type": "stream",
     "text": [
      "Enter your choice:  5\n",
      "Enter sender account number:  32274011407\n",
      "Enter recipient account number:  38298356202\n",
      "Enter amount to transfer:  1000\n"
     ]
    },
    {
     "data": {
      "application/javascript": [
       "\n",
       "        if (window._pyforest_update_imports_cell) { window._pyforest_update_imports_cell('import os\\nimport pickle\\nimport random'); }\n",
       "    "
      ],
      "text/plain": [
       "<IPython.core.display.Javascript object>"
      ]
     },
     "metadata": {},
     "output_type": "display_data"
    },
    {
     "data": {
      "application/javascript": [
       "\n",
       "        if (window._pyforest_update_imports_cell) { window._pyforest_update_imports_cell('import os\\nimport pickle\\nimport random'); }\n",
       "    "
      ],
      "text/plain": [
       "<IPython.core.display.Javascript object>"
      ]
     },
     "metadata": {},
     "output_type": "display_data"
    },
    {
     "data": {
      "application/javascript": [
       "\n",
       "        if (window._pyforest_update_imports_cell) { window._pyforest_update_imports_cell('import os\\nimport pickle\\nimport random'); }\n",
       "    "
      ],
      "text/plain": [
       "<IPython.core.display.Javascript object>"
      ]
     },
     "metadata": {},
     "output_type": "display_data"
    },
    {
     "data": {
      "application/javascript": [
       "\n",
       "        if (window._pyforest_update_imports_cell) { window._pyforest_update_imports_cell('import os\\nimport pickle\\nimport random'); }\n",
       "    "
      ],
      "text/plain": [
       "<IPython.core.display.Javascript object>"
      ]
     },
     "metadata": {},
     "output_type": "display_data"
    },
    {
     "name": "stdout",
     "output_type": "stream",
     "text": [
      "Transferred 1000.0 from 32274011407 to 38298356202 successfully!\n",
      "\n",
      "Bank Account Management System\n",
      "1. Open a New Account\n",
      "2. View Account Details\n",
      "3. Deposit Money\n",
      "4. Withdraw Money\n",
      "5. Transfer Money\n",
      "6. View Transaction History\n",
      "7. View Summary Statistics\n",
      "8. Exit\n"
     ]
    },
    {
     "name": "stdin",
     "output_type": "stream",
     "text": [
      "Enter your choice:  6\n",
      "Enter account number:  38298356202 \n"
     ]
    },
    {
     "name": "stdout",
     "output_type": "stream",
     "text": [
      "No transactions found for this account.\n",
      "\n",
      "Bank Account Management System\n",
      "1. Open a New Account\n",
      "2. View Account Details\n",
      "3. Deposit Money\n",
      "4. Withdraw Money\n",
      "5. Transfer Money\n",
      "6. View Transaction History\n",
      "7. View Summary Statistics\n",
      "8. Exit\n"
     ]
    },
    {
     "name": "stdin",
     "output_type": "stream",
     "text": [
      "Enter your choice:  6\n",
      "Enter account number:  32274011407 \n"
     ]
    },
    {
     "name": "stdout",
     "output_type": "stream",
     "text": [
      "No transactions found for this account.\n",
      "\n",
      "Bank Account Management System\n",
      "1. Open a New Account\n",
      "2. View Account Details\n",
      "3. Deposit Money\n",
      "4. Withdraw Money\n",
      "5. Transfer Money\n",
      "6. View Transaction History\n",
      "7. View Summary Statistics\n",
      "8. Exit\n"
     ]
    },
    {
     "name": "stdin",
     "output_type": "stream",
     "text": [
      "Enter your choice:  6\n",
      "Enter account number:  38298356202\n"
     ]
    },
    {
     "name": "stdout",
     "output_type": "stream",
     "text": [
      "Date: 2025-02-28 12:12:48, Type: Deposit, Amount: 1000.0, Target Account: None\n",
      "Date: 2025-02-28 12:13:52, Type: Withdrawal, Amount: 1000.0, Target Account: None\n",
      "Date: 2025-02-28 12:15:15, Type: Transfer In, Amount: 1000.0, Target Account: 32274011407\n",
      "\n",
      "Bank Account Management System\n",
      "1. Open a New Account\n",
      "2. View Account Details\n",
      "3. Deposit Money\n",
      "4. Withdraw Money\n",
      "5. Transfer Money\n",
      "6. View Transaction History\n",
      "7. View Summary Statistics\n",
      "8. Exit\n"
     ]
    },
    {
     "name": "stdin",
     "output_type": "stream",
     "text": [
      "Enter your choice:  7\n",
      "Enter account number:  38298356202\n"
     ]
    },
    {
     "name": "stdout",
     "output_type": "stream",
     "text": [
      "Total Deposits: 1000.0\n",
      "Total Withdrawals: 1000.0\n"
     ]
    },
    {
     "data": {
      "application/javascript": [
       "\n",
       "        if (window._pyforest_update_imports_cell) { window._pyforest_update_imports_cell('import os\\nimport numpy as np\\nimport pickle\\nimport random'); }\n",
       "    "
      ],
      "text/plain": [
       "<IPython.core.display.Javascript object>"
      ]
     },
     "metadata": {},
     "output_type": "display_data"
    },
    {
     "name": "stdout",
     "output_type": "stream",
     "text": [
      "Average Transaction Amount: 1000.0\n",
      "\n",
      "Bank Account Management System\n",
      "1. Open a New Account\n",
      "2. View Account Details\n",
      "3. Deposit Money\n",
      "4. Withdraw Money\n",
      "5. Transfer Money\n",
      "6. View Transaction History\n",
      "7. View Summary Statistics\n",
      "8. Exit\n"
     ]
    },
    {
     "name": "stdin",
     "output_type": "stream",
     "text": [
      "Enter your choice:  8\n"
     ]
    },
    {
     "name": "stdout",
     "output_type": "stream",
     "text": [
      "Exiting program. Goodbye!\n"
     ]
    }
   ],
   "source": [
    "#File to store account data \n",
    "\n",
    "DATA_FILE = 'accounts_data.pkl' \n",
    "TRANSACTIONS_FILE = 'transactions_data.pk1' \n",
    "\n",
    "#Initialize data \n",
    "accounts = {} \n",
    "transactions = [] \n",
    "\n",
    "#Load data from files \n",
    "if os.path.exists(DATA_FILE):\n",
    "    with open (DATA_FILE, 'rb') as file: \n",
    "        accounts = pickle.load(file) \n",
    "        \n",
    "if os.path.exists (TRANSACTIONS_FILE): \n",
    "    with open (TRANSACTIONS_FILE, 'rb') as file: \n",
    "        transactions = pickle.load(file) \n",
    "        \n",
    "def generate_account_number(): \n",
    "    return str(random.randint(10**10, 10**11 - 1))\n",
    "\n",
    "def create_password(): \n",
    "    return str(random.randint(100000, 999999)) \n",
    "    \n",
    "def save_data(): \n",
    "    with open (DATA_FILE, 'wb') as file: \n",
    "        pickle.dump(accounts, file) \n",
    "    with open (TRANSACTIONS_FILE, 'wb') as file: \n",
    "        pickle.dump(transactions, file) \n",
    "\n",
    "from datetime import datetime  # Import datetime module\n",
    "def record_transaction(account_no, type_, amount, target_account=None): \n",
    "    transaction = {\n",
    "        'account_no': account_no, \n",
    "        'type': type_, \n",
    "        'amount': amount, \n",
    "        'date': datetime.now().strftime('%Y-%m-%d %H:%M:%S'), \n",
    "        'target_account': target_account \n",
    "    }\n",
    "    transactions.append(transaction) \n",
    "    save_data() \n",
    "\n",
    "#Main Functions \n",
    "\n",
    "def open_account(): \n",
    "    name = input(\"Enter account holder's name: \") \n",
    "    account_type = input(\"Enter account type (Savings/Current): \").capitalize() \n",
    "    initial_balance = float(input(\"Enter initial balance: \")) \n",
    "    \n",
    "    account_no = generate_account_number() \n",
    "    password = create_password() \n",
    "    user_id = name.lower().replace(' ', '_') + account_no [-4:] \n",
    "\n",
    "    accounts [account_no] = { \n",
    "        'name': name, \n",
    "        'type': account_type, \n",
    "        'balance': initial_balance, \n",
    "        'password': password, \n",
    "        'user_id': user_id \n",
    "    }\n",
    "    save_data() \n",
    "    print(f\"Account created successfully! Account No: {account_no}, User ID: {user_id}, Password: {password}\") \n",
    "\n",
    "def view_account(): \n",
    "    account_no= input(\"Enter account number: \") \n",
    "    password = input(\"Enter account password: \") \n",
    "    account = accounts.get(account_no) \n",
    "    \n",
    "    if account and account ['password'] == password: \n",
    "        print (f\"Account Holder: {account['name']}\") \n",
    "        print (f\"Account Type: {account ['type']}\") \n",
    "        print(f\"Account Balance: {account ['balance']}\") \n",
    "    else: \n",
    "        print(\"Invalid account number or password.\") \n",
    "        \n",
    "def deposit(): \n",
    "    account_no= input(\"Enter account number: \") \n",
    "    amount = float(input(\"Enter amount to deposit: \")) \n",
    "\n",
    "    if account_no in accounts and amount > 0: \n",
    "        accounts [account_no] ['balance'] += amount \n",
    "        record_transaction(account_no, 'Deposit', amount) \n",
    "        print(f\"Deposited {amount} successfully! New Balance: {accounts [account_no] ['balance']}\") \n",
    "    else: \n",
    "        print(\"Invalid account number or amount.\") \n",
    "\n",
    "def withdraw(): \n",
    "    account_no = input(\"Enter account number: \") \n",
    "    amount = float(input(\"Enter amount to withdraw: \")) \n",
    "    \n",
    "    if account_no in accounts and 0 < amount <= accounts [account_no] ['balance']: \n",
    "        accounts [account_no] ['balance'] -= amount \n",
    "        record_transaction(account_no, 'Withdrawal', amount) \n",
    "        print(f\"Withdrew {amount} successfully! New Balance: {accounts [account_no] [ 'balance']}\") \n",
    "    else: \n",
    "        print(\"Invalid account number or insufficient funds.\") \n",
    "        \n",
    "def transfer(): \n",
    "\n",
    "    sender_account =  input(\"Enter sender account number: \") \n",
    "    recipient_account = input(\"Enter recipient account number: \") \n",
    "    amount = float(input(\"Enter amount to transfer: \")) \n",
    "\n",
    "    if sender_account in accounts and recipient_account in accounts and accounts [sender_account] ['balance']>= amount and amount > 0: \n",
    "        accounts [sender_account] ['balance'] -= amount \n",
    "        accounts [recipient_account] ['balance'] += amount \n",
    "        record_transaction(sender_account, 'Transfer Out', amount, recipient_account) \n",
    "        record_transaction(recipient_account, 'Transfer In', amount, sender_account) \n",
    "        print(f\"Transferred {amount} from {sender_account} to {recipient_account} successfully!\") \n",
    "    else:\n",
    "        print(\"Invalid account numbers or insufficient funds.\") \n",
    "        \n",
    "def view_transaction_history(): \n",
    "    account_no = input(\"Enter account number: \") \n",
    "    history = [t for t in transactions if t['account_no'] == account_no] \n",
    "    \n",
    "    if history: \n",
    "        for t in history: \n",
    "            print(f\"Date: {t['date']}, Type: {t['type']}, Amount: {t['amount']}, Target Account: {t.get('target_account', 'N/A')}\") \n",
    "    else: \n",
    "        print(\"No transactions found for this account.\") \n",
    "        \n",
    "def summary_statistics(): \n",
    "    account_no = input(\"Enter account number: \") \n",
    "    history = [t for t in transactions if t['account_no'] == account_no] \n",
    "    \n",
    "    if history: \n",
    "        deposits = [t['amount'] for t in history if t['type'] == 'Deposit'] \n",
    "        withdrawals = [t['amount'] for t in history if t['type'] == 'Withdrawal'] \n",
    "        print(f\"Total Deposits: {sum(deposits)}\")\n",
    "        print(f\"Total Withdrawals: {sum(withdrawals)}\") \n",
    "        print(f\"Average Transaction Amount: {np.mean([t['amount'] for t in history])}\") \n",
    "    else: \n",
    "        print(\"No transactions found for this account.\") \n",
    "\n",
    "#Main Menu \n",
    "def main_menu(): \n",
    "    while True: \n",
    "        print(\"\\nBank Account Management System\") \n",
    "        print(\"1. Open a New Account\") \n",
    "        print(\"2. View Account Details\") \n",
    "        print(\"3. Deposit Money\") \n",
    "        print(\"4. Withdraw Money\") \n",
    "        print(\"5. Transfer Money\") \n",
    "        print(\"6. View Transaction History\") \n",
    "        print(\"7. View Summary Statistics\")\n",
    "        print(\"8. Exit\") \n",
    "        \n",
    "        choice = input(\"Enter your choice: \") \n",
    "        if choice =='1': \n",
    "            open_account() \n",
    "        elif choice=='2': \n",
    "            view_account() \n",
    "        elif choice == '3': \n",
    "            deposit() \n",
    "        elif choice == '4': \n",
    "            withdraw() \n",
    "        elif choice == '5': \n",
    "            transfer() \n",
    "        elif choice == '6': \n",
    "            view_transaction_history() \n",
    "        elif choice == \"7\": \n",
    "            summary_statistics() \n",
    "        elif choice == '8': \n",
    "            print(\"Exiting program. Goodbye!\") \n",
    "            break \n",
    "        else: \n",
    "            print(\"Invalid choice. Please try again.\")\n",
    "\n",
    "#start the program\n",
    "main_menu()\n",
    "        "
   ]
  },
  {
   "cell_type": "code",
   "execution_count": null,
   "id": "a51e950b-5625-4c76-995e-28b33de77340",
   "metadata": {},
   "outputs": [],
   "source": [
    "7"
   ]
  }
 ],
 "metadata": {
  "kernelspec": {
   "display_name": "Python 3 (ipykernel)",
   "language": "python",
   "name": "python3"
  },
  "language_info": {
   "codemirror_mode": {
    "name": "ipython",
    "version": 3
   },
   "file_extension": ".py",
   "mimetype": "text/x-python",
   "name": "python",
   "nbconvert_exporter": "python",
   "pygments_lexer": "ipython3",
   "version": "3.12.4"
  }
 },
 "nbformat": 4,
 "nbformat_minor": 5
}
